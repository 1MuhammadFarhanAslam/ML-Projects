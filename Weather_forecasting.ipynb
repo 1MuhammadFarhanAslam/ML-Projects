{
  "nbformat": 4,
  "nbformat_minor": 0,
  "metadata": {
    "colab": {
      "private_outputs": true,
      "provenance": [],
      "authorship_tag": "ABX9TyO9wcp6a6GFlyo8xGIw1xV0",
      "include_colab_link": true
    },
    "kernelspec": {
      "name": "python3",
      "display_name": "Python 3"
    },
    "language_info": {
      "name": "python"
    }
  },
  "cells": [
    {
      "cell_type": "markdown",
      "metadata": {
        "id": "view-in-github",
        "colab_type": "text"
      },
      "source": [
        "<a href=\"https://colab.research.google.com/github/1MuhammadFarhanAslam/ML-Projects/blob/main/Weather_forecasting.ipynb\" target=\"_parent\"><img src=\"https://colab.research.google.com/assets/colab-badge.svg\" alt=\"Open In Colab\"/></a>"
      ]
    },
    {
      "cell_type": "markdown",
      "source": [
        "# **Overview**\n",
        "*Weather forecasting is the task of forecasting weather conditions for a given location and time. With the use of weather data and algorithms, it is possible to predict weather conditions for the next n number of days.*\n",
        "\n",
        "*For forecasting weather using Python, we need a dataset containing historical weather data based on a particular location.*\n",
        "\n",
        "*The given dataset provides data from 1st January 2013 to 24th April 2017 in the city of Delhi, India. The 4 parameters here are*\n",
        "**meantemp, humidity, wind_speed, meanpressure.**"
      ],
      "metadata": {
        "id": "5ZevO5n-kDNS"
      }
    },
    {
      "cell_type": "markdown",
      "source": [
        "# **Mounting Google Drive**"
      ],
      "metadata": {
        "id": "Agc8x9XDwwn1"
      }
    },
    {
      "cell_type": "code",
      "source": [
        "from google.colab import drive\n",
        "\n",
        "# Mount Google Drive\n",
        "drive.mount('/content/drive')"
      ],
      "metadata": {
        "id": "7H2seWvA5SZJ"
      },
      "execution_count": null,
      "outputs": []
    },
    {
      "cell_type": "markdown",
      "source": [
        "#**Configure Google Colab to Kaggle through Kaggle API** "
      ],
      "metadata": {
        "id": "bWYFlMcK31NL"
      }
    },
    {
      "cell_type": "markdown",
      "source": [
        "**To connect Kaggle datasets to Google Colab, you need to follow these steps:**\n",
        "\n",
        "* 1: Install the Kaggle library in Google Colab by running the following command"
      ],
      "metadata": {
        "id": "EB0RVNzc0gHu"
      }
    },
    {
      "cell_type": "code",
      "source": [
        "!pip install kaggle"
      ],
      "metadata": {
        "id": "yr86_wT60fi5"
      },
      "execution_count": null,
      "outputs": []
    },
    {
      "cell_type": "markdown",
      "source": [
        "**Go to the Kaggle website (https://www.kaggle.com) and sign in to your account (or create a new account if you don't have one).**\n",
        "\n",
        "*Navigate to the dataset you want to use in your Colab notebook.*\n",
        "\n",
        "*Click on the \"Copy API command\" button below the dataset description. This will copy the command to download the dataset using the Kaggle API.*\n",
        "\n",
        "*In your Colab notebook, import the necessary libraries and set up the Kaggle API by running the following code*"
      ],
      "metadata": {
        "id": "9ulYK_GO08Q2"
      }
    },
    {
      "cell_type": "code",
      "source": [
        "import os\n",
        "import json\n",
        "\n",
        "# Upload your Kaggle API key file (kaggle.json) to Colab using the file upload feature\n",
        "from google.colab import files\n",
        "files.upload()\n",
        "\n",
        "# Read the contents of the kaggle.json file\n",
        "with open('kaggle.json', 'r') as file:\n",
        "    kaggle_json = json.load(file)"
      ],
      "metadata": {
        "id": "By6YQbeY1JlE"
      },
      "execution_count": null,
      "outputs": []
    },
    {
      "cell_type": "markdown",
      "source": [
        "## Important about Kaggle API Security\n",
        "\n",
        "**The command !chmod 600 ~/.kaggle/kaggle.json is used to change the permissions of the kaggle.json file to restrict access permissions.**\n",
        "\n",
        "*In Linux-based systems, including Google Colab, file permissions are represented by a three-digit number: the first digit represents the owner's permissions, the second digit represents the group's permissions, and the third digit represents other users' permissions.*\n",
        "\n",
        "**Here's a breakdown of what chmod 600 does:**\n",
        "\n",
        "* ***6 means the owner (the user who uploaded the kaggle.json file) has read and write permissions (4 for read and 2 for write), but no execute permissions (0 for execute). 0 means the group and other users have no permissions to read, write, or execute the file.***\n",
        "\n",
        "* ***By setting the permissions to chmod 600, it ensures that only the owner of the file (the user who uploaded the kaggle.json file) has read and write access, and no other users (group or others) can access or modify the file.***\n",
        "\n",
        "* **This step is important to maintain the security of your Kaggle API key, as it contains sensitive information and should not be accessible to other users of the system.**"
      ],
      "metadata": {
        "id": "WoCt1sl42oM3"
      }
    },
    {
      "cell_type": "code",
      "source": [
        "# Move the saved kaggle.json file to the required directory\n",
        "os.makedirs('/root/.kaggle', exist_ok=True)\n",
        "os.rename('kaggle.json', '/root/.kaggle/kaggle.json')\n",
        "\n",
        "# Set the appropriate permissions for the Kaggle API key file\n",
        "os.chmod('/root/.kaggle/kaggle.json', 0o600)"
      ],
      "metadata": {
        "id": "KoELloyhNyBW"
      },
      "execution_count": null,
      "outputs": []
    },
    {
      "cell_type": "markdown",
      "source": [
        "**or**"
      ],
      "metadata": {
        "id": "UEm-dvLLSvSS"
      }
    },
    {
      "cell_type": "code",
      "source": [
        "import os\n",
        "\n",
        "# Specify the path to the kaggle.json file\n",
        "kaggle_json_path = os.path.join(os.path.expanduser(\"~\"), \".kaggle\", \"kaggle.json\")\n",
        "\n",
        "# Check if the kaggle.json file already exists\n",
        "if os.path.exists(kaggle_json_path):\n",
        "    print(\"kaggle.json file already exists.\")\n",
        "else:\n",
        "    # Move the uploaded Kaggle API key file to the required directory\n",
        "    !mkdir -p ~/.kaggle    # This command creates a directory named '.kaggle' inside the user's home directory (~). The -p option ensures that the parent directories are also created if they don't exist. If the directory already exists, this command will not throw an error\n",
        "    !mv kaggle.json ~/.kaggle/    # This command moves the file named 'kaggle.json' to the ~/.kaggle/ directory. The mv command is used for file or directory relocation. The first argument, kaggle.json, represents the current name/path of the file, and the second argument, ~/.kaggle/, represents the destination directory where the file should be moved.\n",
        "    !chmod 600 ~/.kaggle/kaggle.json\n",
        "    print(\"kaggle.json file moved and permissions set successfully.\")\n"
      ],
      "metadata": {
        "id": "-1PwQiSUOdcD"
      },
      "execution_count": null,
      "outputs": []
    },
    {
      "cell_type": "markdown",
      "source": [
        "**Verifying Kaggle API**"
      ],
      "metadata": {
        "id": "eM-8aW6uYoY5"
      }
    },
    {
      "cell_type": "code",
      "source": [
        "# Verify the Kaggle API is working\n",
        "!kaggle datasets list"
      ],
      "metadata": {
        "id": "w2j_P2n22Ed1"
      },
      "execution_count": null,
      "outputs": []
    },
    {
      "cell_type": "markdown",
      "source": [
        "**If the Kaggle API is working correctly, you can download the dataset by running the copied API command in your Colab notebook:**"
      ],
      "metadata": {
        "id": "clEwokhD6OAs"
      }
    },
    {
      "cell_type": "code",
      "source": [
        "!kaggle datasets download --force sumanthvrao/daily-climate-time-series-data"
      ],
      "metadata": {
        "id": "GE1lsunXwu-u"
      },
      "execution_count": null,
      "outputs": []
    },
    {
      "cell_type": "markdown",
      "source": [
        "**The dataset will be downloaded as a ZIP file. You can unzip the file using the following command**"
      ],
      "metadata": {
        "id": "ejuuOy_M69Tx"
      }
    },
    {
      "cell_type": "code",
      "source": [
        "import zipfile\n",
        "\n",
        "# Specify the path to the ZIP file\n",
        "zip_file_path = '/content/daily-climate-time-series-data.zip'\n",
        "\n",
        "# creating directory to unzip dataset\n",
        "!mkdir -p /content/daily-climate-time-series-data\n",
        "\n",
        "# Specify the target directory to extract the files\n",
        "target_directory = '/content/daily-climate-time-series-data'\n",
        "\n",
        "# Open the ZIP file\n",
        "with zipfile.ZipFile(zip_file_path, 'r') as zip_ref:\n",
        "    # Extract all the files to the target directory\n",
        "    zip_ref.extractall(target_directory)\n",
        "\n",
        "print(\"ZIP file extracted successfully.\")\n"
      ],
      "metadata": {
        "id": "KQk4uQa96_dy"
      },
      "execution_count": null,
      "outputs": []
    },
    {
      "cell_type": "code",
      "source": [
        "import os\n",
        "\n",
        "# Specify the directory path\n",
        "directory_path = '/content/daily-climate-time-series-data'\n",
        "\n",
        "# Create the directory if it doesn't already exist\n",
        "if not os.path.exists(directory_path):\n",
        "    os.makedirs(directory_path)\n",
        "    print(f\"Directory '{directory_path}' created successfully.\")\n",
        "else:\n",
        "    print(f\"Directory '{directory_path}' already exists.\")\n"
      ],
      "metadata": {
        "id": "mzMMGVJT-Hnr"
      },
      "execution_count": null,
      "outputs": []
    },
    {
      "cell_type": "markdown",
      "source": [
        "**Importing essential libraries**"
      ],
      "metadata": {
        "id": "00JzABffmp15"
      }
    },
    {
      "cell_type": "code",
      "source": [
        "import pandas as pd\n",
        "import numpy as np\n",
        "import matplotlib.pyplot as plt\n",
        "import seaborn as sns\n",
        "import plotly.express as px"
      ],
      "metadata": {
        "id": "OY4r_JS5mOfJ"
      },
      "execution_count": null,
      "outputs": []
    },
    {
      "cell_type": "code",
      "source": [
        "train = pd.read_csv(\"/content/daily-climate-time-series-data/DailyDelhiClimateTrain.csv\")\n",
        "test = pd.read_csv('/content/daily-climate-time-series-data/DailyDelhiClimateTest.csv')\n",
        "print(train.head())"
      ],
      "metadata": {
        "id": "sUaesSLIncJ6"
      },
      "execution_count": null,
      "outputs": []
    },
    {
      "cell_type": "code",
      "source": [
        "print(test.head())"
      ],
      "metadata": {
        "id": "T5JzfNY8c6Ph"
      },
      "execution_count": null,
      "outputs": []
    },
    {
      "cell_type": "code",
      "source": [
        "print(train.shape)\n",
        "print(test.shape)"
      ],
      "metadata": {
        "id": "tv3JhYIDq6Bj"
      },
      "execution_count": null,
      "outputs": []
    },
    {
      "cell_type": "code",
      "source": [
        "print(train.describe())"
      ],
      "metadata": {
        "id": "coCnW6u-mAxg"
      },
      "execution_count": null,
      "outputs": []
    },
    {
      "cell_type": "code",
      "source": [
        "print(test.describe())"
      ],
      "metadata": {
        "id": "aLmkE5gxdJDK"
      },
      "execution_count": null,
      "outputs": []
    },
    {
      "cell_type": "code",
      "source": [
        "train.info()"
      ],
      "metadata": {
        "id": "ONOpzHXxlaOD"
      },
      "execution_count": null,
      "outputs": []
    },
    {
      "cell_type": "code",
      "source": [
        "test.info()"
      ],
      "metadata": {
        "id": "vY8zCLAxdPyW"
      },
      "execution_count": null,
      "outputs": []
    },
    {
      "cell_type": "markdown",
      "source": [
        "**The date column in this dataset is not having a datetime data type. Here’s how we can change the data type and extract year and month data from the date column.**"
      ],
      "metadata": {
        "id": "w3wOVMKPrtlC"
      }
    },
    {
      "cell_type": "code",
      "source": [
        "train['date'] = pd.to_datetime(train['date'], format='%Y-%m-%d')\n",
        "train['year'] = train['date'].dt.year\n",
        "train['month'] = train['date'].dt.month\n",
        "print(train.head())"
      ],
      "metadata": {
        "id": "e_Q0Lk0AtJGL"
      },
      "execution_count": null,
      "outputs": []
    },
    {
      "cell_type": "code",
      "source": [
        "test['date'] = pd.to_datetime(test['date'], format='%Y-%m-%d')\n",
        "test['year'] = test['date'].dt.year\n",
        "test['month'] = test['date'].dt.month\n",
        "print(test.head())"
      ],
      "metadata": {
        "id": "qnmeSUNKdgH2"
      },
      "execution_count": null,
      "outputs": []
    },
    {
      "cell_type": "code",
      "source": [
        "train.tail(5)"
      ],
      "metadata": {
        "id": "ya2VxVLFdxQP"
      },
      "execution_count": null,
      "outputs": []
    },
    {
      "cell_type": "code",
      "source": [
        "test.tail(5)"
      ],
      "metadata": {
        "id": "iKr5mKecn1sd"
      },
      "execution_count": null,
      "outputs": []
    },
    {
      "cell_type": "code",
      "source": [
        "print(train.info())"
      ],
      "metadata": {
        "id": "e7WdOZa4n90w"
      },
      "execution_count": null,
      "outputs": []
    },
    {
      "cell_type": "code",
      "source": [
        "print(test.info())"
      ],
      "metadata": {
        "id": "ejEiGrsAoB7r"
      },
      "execution_count": null,
      "outputs": []
    },
    {
      "cell_type": "markdown",
      "source": [
        "**Let’s have a look at the mean temperature in Delhi over the years**"
      ],
      "metadata": {
        "id": "WdwT5mDXtHdy"
      }
    },
    {
      "cell_type": "code",
      "source": [
        "figure = px.line(train, x=\"date\", \n",
        "                 y=\"meantemp\", \n",
        "                 title='Mean Temperature in Delhi Over the Years')\n",
        "figure.show()"
      ],
      "metadata": {
        "id": "ZjO84uGckHfy"
      },
      "execution_count": null,
      "outputs": []
    },
    {
      "cell_type": "markdown",
      "source": [
        "**Using matplotlib**"
      ],
      "metadata": {
        "id": "KrzWhxQgzjeE"
      }
    },
    {
      "cell_type": "code",
      "source": [
        "fig, ax = plt.subplots(figsize=(14, 4))  # Adjust the size of the figure as needed\n",
        "\n",
        "# Plot the data\n",
        "ax.plot(train['date'], train['meantemp'])\n",
        "\n",
        "# Set the title, x-label, and y-label for the plot\n",
        "ax.set_title('Mean Temperature in Delhi Over the Years')\n",
        "ax.set_xlabel('Date')\n",
        "ax.set_ylabel('Mean Temperature')\n",
        "\n",
        "# Add a background color\n",
        "ax.axhspan(min(train['meantemp']), max(train['meantemp']), facecolor='lightgray', alpha=0.3)\n",
        "ax.axvspan(min(train['date']), max(train['date']), facecolor='lightgray', alpha=0.3)\n",
        "\n",
        "plt.show()\n"
      ],
      "metadata": {
        "id": "EcSp9DthxDTa"
      },
      "execution_count": null,
      "outputs": []
    },
    {
      "cell_type": "markdown",
      "source": [
        "**Now let’s have a look at the humidity in Delhi over the years**"
      ],
      "metadata": {
        "id": "srslwiy-ztC0"
      }
    },
    {
      "cell_type": "code",
      "source": [
        "figure = px.line(train, x=\"date\", \n",
        "                 y=\"humidity\", \n",
        "                 title='Humidity in Delhi Over the Years')\n",
        "figure.show()"
      ],
      "metadata": {
        "id": "4uQpx7MuznPC"
      },
      "execution_count": null,
      "outputs": []
    },
    {
      "cell_type": "markdown",
      "source": [
        "**Now let’s have a look at the wind speed in Delhi over the years**"
      ],
      "metadata": {
        "id": "tZvKJjycz3Qf"
      }
    },
    {
      "cell_type": "code",
      "source": [
        "figure = px.line(train, x=\"date\", \n",
        "                 y=\"wind_speed\", \n",
        "                 title='Wind Speed in Delhi Over the Years')\n",
        "figure.show()"
      ],
      "metadata": {
        "id": "lixEbNqLz3z8"
      },
      "execution_count": null,
      "outputs": []
    },
    {
      "cell_type": "markdown",
      "source": [
        "**Analysis**\n",
        "\n",
        "Till 2015, the wind speed was higher during monsoons (August & September) and retreating monsoons (December & January). After 2015, there were no anomalies in wind speed during monsoons. Now let’s have a look at the relationship between temperature and humidity:"
      ],
      "metadata": {
        "id": "PpRViwA80CpD"
      }
    },
    {
      "cell_type": "code",
      "source": [
        "figure = px.scatter(data_frame = train, x=\"humidity\",\n",
        "                    y=\"meantemp\", size=\"meantemp\", \n",
        "                    trendline=\"ols\", \n",
        "                    title = \"Relationship Between Temperature and Humidity\")\n",
        "figure.show()"
      ],
      "metadata": {
        "id": "WRRdMpik0IF0"
      },
      "execution_count": null,
      "outputs": []
    },
    {
      "cell_type": "markdown",
      "source": [
        "*There’s a negative correlation between temperature and humidity in Delhi. It means higher temperature results in low humidity and lower temperature results in high humidity.*"
      ],
      "metadata": {
        "id": "j67cbhM5-Wvq"
      }
    },
    {
      "cell_type": "markdown",
      "source": [
        "**Now let’s have a look at the temperature change in Delhi over the years**"
      ],
      "metadata": {
        "id": "Gc6MD82R-oi5"
      }
    },
    {
      "cell_type": "code",
      "source": [
        "from matplotlib import style\n",
        "print(style.available)"
      ],
      "metadata": {
        "id": "-j7OOdOvAtzw"
      },
      "execution_count": null,
      "outputs": []
    },
    {
      "cell_type": "code",
      "source": [
        "plt.style.use('fivethirtyeight')\n",
        "plt.figure(figsize=(16, 6))\n",
        "plt.title(\"Temperature Change in Delhi Over the Years\")\n",
        "sns.lineplot(data = train, x='month', y='meantemp', hue='year')\n",
        "plt.show()"
      ],
      "metadata": {
        "id": "q6B3GLdL0FXY"
      },
      "execution_count": null,
      "outputs": []
    },
    {
      "cell_type": "markdown",
      "source": [
        "***Now let’s move to the task of weather forecasting. I will be using the Facebook prophet model for this task. The Facebook prophet model is one of the best techniques for time series forecasting.***"
      ],
      "metadata": {
        "id": "wx0SrcSgCt2w"
      }
    },
    {
      "cell_type": "code",
      "source": [
        "!pip install prophet"
      ],
      "metadata": {
        "id": "IQCygRXQz5_L"
      },
      "execution_count": null,
      "outputs": []
    },
    {
      "cell_type": "markdown",
      "source": [
        "***The prophet model accepts time data named as “ds”, and labels as “y”. So let’s convert the data into this format***"
      ],
      "metadata": {
        "id": "8QA7T9GBH8fi"
      }
    },
    {
      "cell_type": "code",
      "source": [
        "train_data = train.rename(columns = {'date' : 'ds', 'meantemp':'y'})\n",
        "train_data"
      ],
      "metadata": {
        "id": "8IaHwha0H-Cd"
      },
      "execution_count": null,
      "outputs": []
    },
    {
      "cell_type": "code",
      "source": [
        "test_data = test.rename(columns = {'date' : 'ds', 'meantemp':'y'})\n",
        "test_data"
      ],
      "metadata": {
        "id": "IbOmvkZDe10J"
      },
      "execution_count": null,
      "outputs": []
    },
    {
      "cell_type": "markdown",
      "source": [
        "# **model.fit() and model.predict()**"
      ],
      "metadata": {
        "id": "eJABqz85OMQV"
      }
    },
    {
      "cell_type": "code",
      "source": [
        "from prophet import Prophet\n",
        "\n",
        "# Create and fit the Prophet model\n",
        "model = Prophet()\n",
        "model.fit(train_data)\n",
        "\n",
        "# Create future dates to forecast\n",
        "future_dates = model.make_future_dataframe(periods=len(test_data))\n",
        "\n",
        "# Make predictions\n",
        "predictions = model.predict(future_dates)\n"
      ],
      "metadata": {
        "id": "I6D1tsDGfRyh"
      },
      "execution_count": null,
      "outputs": []
    },
    {
      "cell_type": "code",
      "source": [
        "predictions"
      ],
      "metadata": {
        "id": "d-xseyIXgDaj"
      },
      "execution_count": null,
      "outputs": []
    },
    {
      "cell_type": "code",
      "source": [
        "# Merge predictions with actual values from the test dataset\n",
        "forecasted_data = predictions[['ds', 'yhat', 'yhat_lower', 'yhat_upper']].merge(test_data, on='ds', how='left')\n",
        "forecasted_data"
      ],
      "metadata": {
        "id": "t-g0dxvfgaiE"
      },
      "execution_count": null,
      "outputs": []
    },
    {
      "cell_type": "code",
      "source": [
        "# Print the forecasted values\n",
        "print(forecasted_data[['ds', 'yhat', 'y', 'yhat_lower', 'yhat_upper']].iloc[1462:1575])"
      ],
      "metadata": {
        "id": "qS9tF5zRgwr-"
      },
      "execution_count": null,
      "outputs": []
    },
    {
      "cell_type": "code",
      "source": [
        "# Visualize the forecasted_data\n",
        "from prophet.plot import plot_plotly, plot_components_plotly\n",
        "\n",
        "plot_plotly(model, predictions)"
      ],
      "metadata": {
        "id": "9eAW4KNehwgJ"
      },
      "execution_count": null,
      "outputs": []
    },
    {
      "cell_type": "markdown",
      "source": [
        "# **Let's make predictions for next 365 days and check the trend for weather condition**"
      ],
      "metadata": {
        "id": "f3ljNOTukLZF"
      }
    },
    {
      "cell_type": "code",
      "source": [
        "from prophet import Prophet\n",
        "\n",
        "# Create and fit the Prophet model\n",
        "model = Prophet()\n",
        "model.fit(train_data)\n",
        "\n",
        "# Create future dates to forecast\n",
        "future_dates365 = model.make_future_dataframe(periods=365)  # Adjust the number of forecast steps as needed\n",
        "\n",
        "# Make predictions\n",
        "predictions365 = model.predict(future_dates365)\n"
      ],
      "metadata": {
        "id": "_ABL9KXBb9_x"
      },
      "execution_count": null,
      "outputs": []
    },
    {
      "cell_type": "code",
      "source": [
        "predictions365"
      ],
      "metadata": {
        "id": "cqgZIuqHi7rE"
      },
      "execution_count": null,
      "outputs": []
    },
    {
      "cell_type": "code",
      "source": [
        "# Print the forecasted values\n",
        "print(predictions365[['ds', 'yhat', 'yhat_lower', 'yhat_upper']].tail(365))"
      ],
      "metadata": {
        "id": "LQ33Kkani9BO"
      },
      "execution_count": null,
      "outputs": []
    },
    {
      "cell_type": "code",
      "source": [
        "# Visualize the forecasted values\n",
        "from prophet.plot import plot_plotly, plot_components_plotly\n",
        "plot_plotly(model, predictions365)"
      ],
      "metadata": {
        "id": "e7UNmc5Mi-tH"
      },
      "execution_count": null,
      "outputs": []
    }
  ]
}
{
  "nbformat": 4,
  "nbformat_minor": 0,
  "metadata": {
    "colab": {
      "private_outputs": true,
      "provenance": [],
      "authorship_tag": "ABX9TyMowXh6SMifLVzF2ngD7sXc",
      "include_colab_link": true
    },
    "kernelspec": {
      "name": "python3",
      "display_name": "Python 3"
    },
    "language_info": {
      "name": "python"
    }
  },
  "cells": [
    {
      "cell_type": "markdown",
      "metadata": {
        "id": "view-in-github",
        "colab_type": "text"
      },
      "source": [
        "<a href=\"https://colab.research.google.com/github/1MuhammadFarhanAslam/ML-Projects/blob/main/Covid_19_Deaths_Prediction.ipynb\" target=\"_parent\"><img src=\"https://colab.research.google.com/assets/colab-badge.svg\" alt=\"Open In Colab\"/></a>"
      ]
    },
    {
      "cell_type": "markdown",
      "source": [
        "# Overview\n",
        "* **Covid-19 is one of the deadliest viruses you’ve ever heard. Mutations in covid-19 make it either more deadly or more infectious. We have seen a lot of deaths from covid-19 while there is a higher wave of cases. We can use historical data on covid-19 cases and deaths to predict the number of deaths in the future.**\n",
        "\n",
        "*I am using a dataset of Covid-19 in India from 30 January 2020 to 18 January 2022. The dataset contains information about the daily confirmed cases and deaths. Below are all the columns of the dataset:*\n",
        "\n",
        "**Date: Contains the date of the record**\n",
        "\n",
        "**Date_YMD: Contains date in Year-Month-Day Format**\n",
        "\n",
        "**Daily Confirmed: Contains the daily confirmed cases of Covid-19**\n",
        "\n",
        "**Daily Deceased: Contains the daily deaths due to Covid-19**\n",
        "\n",
        "***Note:***\n",
        "\n",
        "I need to use this historical data of covid-19 cases and deaths to **predict the number of deaths** for the **next 30 days**. You can download this dataset from [*here*](https://raw.githubusercontent.com/amankharwal/Website-data/master/COVID19%20data%20for%20overall%20INDIA.csv)."
      ],
      "metadata": {
        "id": "IRIGYgnjHoUB"
      }
    },
    {
      "cell_type": "markdown",
      "source": [
        "# **Mounting Google Drive**"
      ],
      "metadata": {
        "id": "sMQbZRDbIDrN"
      }
    },
    {
      "cell_type": "code",
      "source": [
        "from google.colab import drive\n",
        "\n",
        "# Mount Google Drive\n",
        "drive.mount('/content/drive')"
      ],
      "metadata": {
        "id": "O-rLWeYUIEVk"
      },
      "execution_count": null,
      "outputs": []
    },
    {
      "cell_type": "markdown",
      "source": [
        "# **Downloading dataset from URL**"
      ],
      "metadata": {
        "id": "EYmpz3NfIGNs"
      }
    },
    {
      "cell_type": "code",
      "source": [
        "!wget -O COVID19_data_INDIA.csv https://raw.githubusercontent.com/amankharwal/Website-data/master/COVID19%20data%20for%20overall%20INDIA.csv"
      ],
      "metadata": {
        "id": "0Pq3tNwrIKzM"
      },
      "execution_count": null,
      "outputs": []
    },
    {
      "cell_type": "markdown",
      "source": [
        "**Checking if file already exists or not. If doesn't, csv file will be downloaded.**"
      ],
      "metadata": {
        "id": "mshD7mDUIM4c"
      }
    },
    {
      "cell_type": "code",
      "source": [
        "import os\n",
        "import requests\n",
        "\n",
        "file_name = 'COVID19_data_INDIA.csv'\n",
        "\n",
        "# Check if the file already exists\n",
        "if os.path.isfile(file_name):\n",
        "    print(f\"The file '{file_name}' already exists.\")\n",
        "else:\n",
        "    url = \"https://raw.githubusercontent.com/amankharwal/Website-data/master/COVID19%20data%20for%20overall%20INDIA.csv\"\n",
        "    response = requests.get(url)\n",
        "    with open(file_name, 'wb') as file:\n",
        "        file.write(response.content)\n",
        "    print(f\"The file '{file_name}' has been downloaded.\")\n"
      ],
      "metadata": {
        "id": "YexUWKMjIQgd"
      },
      "execution_count": null,
      "outputs": []
    },
    {
      "cell_type": "code",
      "source": [
        "import pandas as pd\n",
        "import numpy as np\n",
        "import plotly.express as px\n",
        "data = pd.read_csv(\"/content/COVID19_data_INDIA.csv\")\n",
        "data.head()"
      ],
      "metadata": {
        "id": "k785yz9aJku1"
      },
      "execution_count": null,
      "outputs": []
    },
    {
      "cell_type": "code",
      "source": [
        "data.shape"
      ],
      "metadata": {
        "id": "Tf6r3nv8KDxA"
      },
      "execution_count": null,
      "outputs": []
    },
    {
      "cell_type": "code",
      "source": [
        "data.info()"
      ],
      "metadata": {
        "id": "MBQyDu-wKE9d"
      },
      "execution_count": null,
      "outputs": []
    },
    {
      "cell_type": "code",
      "source": [
        "data.describe()"
      ],
      "metadata": {
        "id": "niGm0GwCKGPh"
      },
      "execution_count": null,
      "outputs": []
    },
    {
      "cell_type": "markdown",
      "source": [
        "Before moving forward, let’s have a quick look at whether this dataset contains any null values or not:"
      ],
      "metadata": {
        "id": "HbVqCMk0KoUo"
      }
    },
    {
      "cell_type": "code",
      "source": [
        "data.isnull().sum()"
      ],
      "metadata": {
        "id": "3-7NRUDwKcRC"
      },
      "execution_count": null,
      "outputs": []
    },
    {
      "cell_type": "markdown",
      "source": [
        "We don’t need the date column, so let’s drop this column from our dataset:"
      ],
      "metadata": {
        "id": "qVm7OKJWK_Lm"
      }
    },
    {
      "cell_type": "code",
      "source": [
        "data = data.drop('Date', axis=1)\n",
        "data"
      ],
      "metadata": {
        "id": "tMrt91c4K0Tv"
      },
      "execution_count": null,
      "outputs": []
    },
    {
      "cell_type": "markdown",
      "source": [
        "Let’s have a look at the daily confirmed cases of Covid-19:"
      ],
      "metadata": {
        "id": "kRXg1jv8LdGa"
      }
    },
    {
      "cell_type": "code",
      "source": [
        "fig = px.bar(data, x='Date_YMD', y='Daily Confirmed')\n",
        "fig.show()\n"
      ],
      "metadata": {
        "id": "unYEGfWULIGQ"
      },
      "execution_count": null,
      "outputs": []
    },
    {
      "cell_type": "markdown",
      "source": [
        "Now let’s have a look at the daily deaths of covid-19:"
      ],
      "metadata": {
        "id": "u68mStS9OlUK"
      }
    },
    {
      "cell_type": "code",
      "source": [
        "fig = px.bar(data, x='Date_YMD', y='Daily Deceased')\n",
        "fig.show()"
      ],
      "metadata": {
        "id": "NtWF8r-PRzIO"
      },
      "execution_count": null,
      "outputs": []
    },
    {
      "cell_type": "markdown",
      "source": [
        "# **Covid-19 Death Rate Analysis**\n",
        "**Now let’s visualize the death rate due to Covid-19:**"
      ],
      "metadata": {
        "id": "yPRRZVR2MyWP"
      }
    },
    {
      "cell_type": "code",
      "source": [
        "daily_cases = data['Daily Confirmed'].sum()\n",
        "daily_deaths = data['Daily Deceased'].sum()\n",
        "\n",
        "labels = ['cases', 'deaths']\n",
        "values = [daily_cases, daily_deaths]\n",
        "\n",
        "fig = px.pie(data, values = values, names = labels, title='Daily Confirmed Cases vs Daily Deaths',  hole=0.5)\n",
        "\n",
        "fig.show()"
      ],
      "metadata": {
        "id": "zrR7eyzVM0Dc"
      },
      "execution_count": null,
      "outputs": []
    },
    {
      "cell_type": "markdown",
      "source": [
        "Let’s calculate the death rate of Covid-19:"
      ],
      "metadata": {
        "id": "qD4rV5a0OJfe"
      }
    },
    {
      "cell_type": "code",
      "source": [
        "death_rate = (data[\"Daily Deceased\"].sum() / data[\"Daily Confirmed\"].sum()) * 100\n",
        "death_rate"
      ],
      "metadata": {
        "id": "xqFWbDpZN-Nh"
      },
      "execution_count": null,
      "outputs": []
    },
    {
      "cell_type": "markdown",
      "source": [
        "# **Covid-19 Deaths Prediction Model**\n",
        "\n",
        "Now let’s move to the task of covid-19 deaths prediction for the next 30 days. Here I will be using the AutoTS library, which is one of the best Automatic Machine Learning libraries for Time Series Analysis. If you have never used this library before, you can install it by executing the command mentioned below in your command prompt or terminal:"
      ],
      "metadata": {
        "id": "o9Th7vsCSxya"
      }
    },
    {
      "cell_type": "code",
      "source": [
        "!pip install autots"
      ],
      "metadata": {
        "id": "-s0UxyFKOSr7"
      },
      "execution_count": null,
      "outputs": []
    },
    {
      "cell_type": "code",
      "source": [
        "from autots import AutoTS\n",
        "\n",
        "model = AutoTS(forecast_length=30, frequency='infer', ensemble='simple')\n",
        "model = model.fit(data, date_col='Date_YMD', value_col='Daily Deceased', id_col=None)\n",
        "prediction = model.predict()\n",
        "forecast = prediction.forecast\n",
        "print(forecast)"
      ],
      "metadata": {
        "id": "QViD3lIDTJ-m"
      },
      "execution_count": null,
      "outputs": []
    },
    {
      "cell_type": "code",
      "source": [
        "forecast"
      ],
      "metadata": {
        "id": "h9NHxneQbYLX"
      },
      "execution_count": null,
      "outputs": []
    },
    {
      "cell_type": "code",
      "source": [
        "# Save the forecast to a file\n",
        "forecast.to_csv('forecast.csv')"
      ],
      "metadata": {
        "id": "pazqoxUhbbLY"
      },
      "execution_count": null,
      "outputs": []
    },
    {
      "cell_type": "code",
      "source": [],
      "metadata": {
        "id": "auqy1CmagjwS"
      },
      "execution_count": null,
      "outputs": []
    }
  ]
}